{
 "cells": [
  {
   "cell_type": "code",
   "execution_count": null,
   "metadata": {},
   "outputs": [],
   "source": [
    "from kiteconnect import KiteConnect\n",
    "import json\n",
    "\n",
    "api_key = \"\"\n",
    "api_secret = \"\"\n",
    "with open(\"../../env.json\", \"r\") as json_file:\n",
    "    json_content = json.load(json_file)\n",
    "    api_key = json_content[\"kite_api\"][\"api_key\"]\n",
    "    api_secret = json_content[\"kite_api\"][\"api_secret\"]\n",
    "\n",
    "kite = KiteConnect(api_key=api_key)\n",
    "kite.login_url()\n"
   ]
  },
  {
   "cell_type": "markdown",
   "metadata": {},
   "source": [
    "get request token from redirected URL after performing login"
   ]
  },
  {
   "cell_type": "code",
   "execution_count": null,
   "metadata": {},
   "outputs": [],
   "source": [
    "request_token = \"\""
   ]
  },
  {
   "cell_type": "code",
   "execution_count": null,
   "metadata": {},
   "outputs": [],
   "source": [
    "data = kite.generate_session(request_token, api_secret)\n",
    "print(data)\n",
    "access_token = data[\"access_token\"]\n",
    "print(access_token)\n"
   ]
  },
  {
   "cell_type": "code",
   "execution_count": null,
   "metadata": {},
   "outputs": [],
   "source": [
    "file_path = '../../env.json'\n",
    "\n",
    "with open(file_path, 'r') as json_file:\n",
    "    data = json.load(json_file)\n",
    "\n",
    "new_access_token = access_token\n",
    "data[\"kite_api\"]['access_token'] = new_access_token\n",
    "\n",
    "# Step 3: Write the Updated JSON\n",
    "with open(file_path, 'w') as json_file:\n",
    "    json.dump(data, json_file, indent=4) "
   ]
  },
  {
   "cell_type": "code",
   "execution_count": null,
   "metadata": {},
   "outputs": [],
   "source": []
  }
 ],
 "metadata": {
  "kernelspec": {
   "display_name": "venv",
   "language": "python",
   "name": "python3"
  },
  "language_info": {
   "codemirror_mode": {
    "name": "ipython",
    "version": 3
   },
   "file_extension": ".py",
   "mimetype": "text/x-python",
   "name": "python",
   "nbconvert_exporter": "python",
   "pygments_lexer": "ipython3",
   "version": "3.10.12"
  },
  "orig_nbformat": 4
 },
 "nbformat": 4,
 "nbformat_minor": 2
}
